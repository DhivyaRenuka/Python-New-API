{
 "cells": [
  {
   "cell_type": "markdown",
   "metadata": {},
   "source": [
    "# Python news API"
   ]
  },
  {
   "cell_type": "code",
   "execution_count": 1,
   "metadata": {},
   "outputs": [],
   "source": [
    "import requests"
   ]
  },
  {
   "cell_type": "code",
   "execution_count": 2,
   "metadata": {},
   "outputs": [],
   "source": [
    "api_key=\"your_api_key\""
   ]
  },
  {
   "cell_type": "code",
   "execution_count": 11,
   "metadata": {},
   "outputs": [],
   "source": [
    "def display_news():\n",
    "    main_url=\"https://newsapi.org/v2/top-headlines?country=in&category=business&apiKey=\"+api_key\n",
    "    news= requests.get(main_url).json()\n",
    "    #print(news)\n",
    "    articles=news['articles']\n",
    "    #print(articles)\n",
    "    new_articles=[]\n",
    "    for a in articles:\n",
    "        new_articles.append(a['title'])\n",
    "        #print(new_articles)\n",
    "    for i in range(len(new_articles)):\n",
    "        print(new_articles[i])"
   ]
  },
  {
   "cell_type": "code",
   "execution_count": 12,
   "metadata": {},
   "outputs": [
    {
     "name": "stdout",
     "output_type": "stream",
     "text": [
      "Best Cryptocurrencies to Buy and Hold in July 2021 - Analytics Insight\n",
      "Coronavirus: Zydus Cadila seeks approval for its COVID vaccine; here is what makes it different from other vaccines - Times of India\n",
      "Buy Vardhman Special Steel; target of Rs 300: ICICI Direct - Moneycontrol.com\n",
      "Virat Kohli-backed Insurance Firm Aims for Big League; Valuation Rises to $3.5 Billion - News18\n",
      "Market LIVE: Sensex, Nifty sit in green; ICICI Bank, Reliance Industries top gainers - The Financial Express\n",
      "Airtel launches all-in-one plan for mobile services, broadband and DTH services - Mint\n",
      "Paytm's Rs 50-Crore Cashback Offer: Guaranteed Cashback on Each Transaction, QR Scan - News18\n",
      "[Funding alert] Licious raises $192M in Series F round led by Temasek and Multiples PE - YourStory\n",
      "Tesla Top-Of-Range Car Caught Fire While Owner Was Driving, Lawyer Says - NDTV\n",
      "RIL, SBI shares in long-only India portfolio; Chris Wood wants to buy these 16 large, midcap, smallcap stocks - The Financial Express\n",
      "Most Vaccines Durable for at least 1 year, Data Shows 2 Different Shots Better: Kiran Mazumdar Shaw - News18\n",
      "Edelweiss Financial Services to sell its 70% stake in insurance broking JV for Rs 307.60 crore - Moneycontrol\n",
      "Exclusive | Zomato Eyes $8.7 billion valuation at listing, IPO launch likely in mid-July - Moneycontrol.com\n",
      "Route Mobile surges 10% on acquisition of email technology biz from Sarv - Business Standard\n",
      "I am a strong believer in building businesses the old way: Marico founder Harsh Mariwala - Moneycontrol.com\n",
      "[Funding alert] D2C brand FRAAZO raises $11M led by Sixth Sense Ventures, NABVENTURES, and others - YourStory\n",
      "Johnson & Johnson claims its single-shot COVID-19 vaccine neutralises Delta variant, provides 8 month i... - Zee News\n",
      "Petrol price today breaches ₹105 in Mumbai, Chennai latest to join ₹100 club - HT Auto\n",
      "India’s NTPC Plans Renewables IPO For Huge Green Push - BloombergQuint\n",
      "Kotak Mahindra Bank underperforms Bank Nifty but global brokerage sees 10% upside, here's why - Moneycontrol.com\n"
     ]
    }
   ],
   "source": [
    "display_news()"
   ]
  }
 ],
 "metadata": {
  "kernelspec": {
   "display_name": "Python 3",
   "language": "python",
   "name": "python3"
  },
  "language_info": {
   "codemirror_mode": {
    "name": "ipython",
    "version": 3
   },
   "file_extension": ".py",
   "mimetype": "text/x-python",
   "name": "python",
   "nbconvert_exporter": "python",
   "pygments_lexer": "ipython3",
   "version": "3.8.5"
  }
 },
 "nbformat": 4,
 "nbformat_minor": 4
}
